{
 "cells": [
  {
   "cell_type": "code",
   "execution_count": 118,
   "id": "b9b91668",
   "metadata": {},
   "outputs": [],
   "source": [
    "import pandas as pd\n",
    "import numpy as np\n",
    "import matplotlib.pyplot as plt\n",
    "from sklearn.linear_model import LogisticRegression\n",
    "from sklearn.neighbors import KNeighborsClassifier\n",
    "from sklearn.tree import DecisionTreeClassifier,plot_tree\n",
    "from sklearn import metrics, preprocessing, tree\n",
    "from sklearn.model_selection import train_test_split, GridSearchCV\n",
    "import seaborn as sns\n",
    "import xgboost as xgb"
   ]
  },
  {
   "cell_type": "code",
   "execution_count": 119,
   "id": "37b29014",
   "metadata": {},
   "outputs": [
    {
     "data": {
      "text/html": [
       "<div>\n",
       "<style scoped>\n",
       "    .dataframe tbody tr th:only-of-type {\n",
       "        vertical-align: middle;\n",
       "    }\n",
       "\n",
       "    .dataframe tbody tr th {\n",
       "        vertical-align: top;\n",
       "    }\n",
       "\n",
       "    .dataframe thead th {\n",
       "        text-align: right;\n",
       "    }\n",
       "</style>\n",
       "<table border=\"1\" class=\"dataframe\">\n",
       "  <thead>\n",
       "    <tr style=\"text-align: right;\">\n",
       "      <th></th>\n",
       "      <th>Age</th>\n",
       "      <th>Sex</th>\n",
       "      <th>BP</th>\n",
       "      <th>Cholesterol</th>\n",
       "      <th>Na_to_K</th>\n",
       "      <th>Drug</th>\n",
       "    </tr>\n",
       "  </thead>\n",
       "  <tbody>\n",
       "    <tr>\n",
       "      <th>0</th>\n",
       "      <td>23</td>\n",
       "      <td>F</td>\n",
       "      <td>HIGH</td>\n",
       "      <td>HIGH</td>\n",
       "      <td>25.355</td>\n",
       "      <td>drugY</td>\n",
       "    </tr>\n",
       "    <tr>\n",
       "      <th>1</th>\n",
       "      <td>47</td>\n",
       "      <td>M</td>\n",
       "      <td>LOW</td>\n",
       "      <td>HIGH</td>\n",
       "      <td>13.093</td>\n",
       "      <td>drugC</td>\n",
       "    </tr>\n",
       "    <tr>\n",
       "      <th>2</th>\n",
       "      <td>47</td>\n",
       "      <td>M</td>\n",
       "      <td>LOW</td>\n",
       "      <td>HIGH</td>\n",
       "      <td>10.114</td>\n",
       "      <td>drugC</td>\n",
       "    </tr>\n",
       "    <tr>\n",
       "      <th>3</th>\n",
       "      <td>28</td>\n",
       "      <td>F</td>\n",
       "      <td>NORMAL</td>\n",
       "      <td>HIGH</td>\n",
       "      <td>7.798</td>\n",
       "      <td>drugX</td>\n",
       "    </tr>\n",
       "    <tr>\n",
       "      <th>4</th>\n",
       "      <td>61</td>\n",
       "      <td>F</td>\n",
       "      <td>LOW</td>\n",
       "      <td>HIGH</td>\n",
       "      <td>18.043</td>\n",
       "      <td>drugY</td>\n",
       "    </tr>\n",
       "    <tr>\n",
       "      <th>5</th>\n",
       "      <td>22</td>\n",
       "      <td>F</td>\n",
       "      <td>NORMAL</td>\n",
       "      <td>HIGH</td>\n",
       "      <td>8.607</td>\n",
       "      <td>drugX</td>\n",
       "    </tr>\n",
       "    <tr>\n",
       "      <th>6</th>\n",
       "      <td>49</td>\n",
       "      <td>F</td>\n",
       "      <td>NORMAL</td>\n",
       "      <td>HIGH</td>\n",
       "      <td>16.275</td>\n",
       "      <td>drugY</td>\n",
       "    </tr>\n",
       "    <tr>\n",
       "      <th>7</th>\n",
       "      <td>41</td>\n",
       "      <td>M</td>\n",
       "      <td>LOW</td>\n",
       "      <td>HIGH</td>\n",
       "      <td>11.037</td>\n",
       "      <td>drugC</td>\n",
       "    </tr>\n",
       "    <tr>\n",
       "      <th>8</th>\n",
       "      <td>60</td>\n",
       "      <td>M</td>\n",
       "      <td>NORMAL</td>\n",
       "      <td>HIGH</td>\n",
       "      <td>15.171</td>\n",
       "      <td>drugY</td>\n",
       "    </tr>\n",
       "    <tr>\n",
       "      <th>9</th>\n",
       "      <td>43</td>\n",
       "      <td>M</td>\n",
       "      <td>LOW</td>\n",
       "      <td>NORMAL</td>\n",
       "      <td>19.368</td>\n",
       "      <td>drugY</td>\n",
       "    </tr>\n",
       "  </tbody>\n",
       "</table>\n",
       "</div>"
      ],
      "text/plain": [
       "   Age Sex      BP Cholesterol  Na_to_K   Drug\n",
       "0   23   F    HIGH        HIGH   25.355  drugY\n",
       "1   47   M     LOW        HIGH   13.093  drugC\n",
       "2   47   M     LOW        HIGH   10.114  drugC\n",
       "3   28   F  NORMAL        HIGH    7.798  drugX\n",
       "4   61   F     LOW        HIGH   18.043  drugY\n",
       "5   22   F  NORMAL        HIGH    8.607  drugX\n",
       "6   49   F  NORMAL        HIGH   16.275  drugY\n",
       "7   41   M     LOW        HIGH   11.037  drugC\n",
       "8   60   M  NORMAL        HIGH   15.171  drugY\n",
       "9   43   M     LOW      NORMAL   19.368  drugY"
      ]
     },
     "execution_count": 119,
     "metadata": {},
     "output_type": "execute_result"
    }
   ],
   "source": [
    "df=pd.read_csv(\"drug.csv\")\n",
    "df.head(10)"
   ]
  },
  {
   "cell_type": "code",
   "execution_count": 120,
   "id": "9d9d24a5",
   "metadata": {},
   "outputs": [
    {
     "data": {
      "text/plain": [
       "Age            0\n",
       "Sex            0\n",
       "BP             0\n",
       "Cholesterol    0\n",
       "Na_to_K        0\n",
       "Drug           0\n",
       "dtype: int64"
      ]
     },
     "execution_count": 120,
     "metadata": {},
     "output_type": "execute_result"
    }
   ],
   "source": [
    "df.isnull().sum()"
   ]
  },
  {
   "cell_type": "code",
   "execution_count": 121,
   "id": "3d45fbb4",
   "metadata": {},
   "outputs": [
    {
     "name": "stdout",
     "output_type": "stream",
     "text": [
      "<class 'pandas.core.frame.DataFrame'>\n",
      "RangeIndex: 200 entries, 0 to 199\n",
      "Data columns (total 6 columns):\n",
      " #   Column       Non-Null Count  Dtype  \n",
      "---  ------       --------------  -----  \n",
      " 0   Age          200 non-null    int64  \n",
      " 1   Sex          200 non-null    object \n",
      " 2   BP           200 non-null    object \n",
      " 3   Cholesterol  200 non-null    object \n",
      " 4   Na_to_K      200 non-null    float64\n",
      " 5   Drug         200 non-null    object \n",
      "dtypes: float64(1), int64(1), object(4)\n",
      "memory usage: 9.5+ KB\n"
     ]
    }
   ],
   "source": [
    "df.info()"
   ]
  },
  {
   "cell_type": "code",
   "execution_count": 122,
   "id": "37220a69",
   "metadata": {},
   "outputs": [
    {
     "data": {
      "text/plain": [
       "(200, 6)"
      ]
     },
     "execution_count": 122,
     "metadata": {},
     "output_type": "execute_result"
    }
   ],
   "source": [
    "df.shape"
   ]
  },
  {
   "cell_type": "code",
   "execution_count": 123,
   "id": "ba930fc9",
   "metadata": {},
   "outputs": [
    {
     "data": {
      "text/plain": [
       "array(['F', 'M'], dtype=object)"
      ]
     },
     "execution_count": 123,
     "metadata": {},
     "output_type": "execute_result"
    }
   ],
   "source": [
    "df.Sex.unique()"
   ]
  },
  {
   "cell_type": "code",
   "execution_count": 124,
   "id": "e49fd10e",
   "metadata": {},
   "outputs": [
    {
     "data": {
      "text/plain": [
       "array(['HIGH', 'LOW', 'NORMAL'], dtype=object)"
      ]
     },
     "execution_count": 124,
     "metadata": {},
     "output_type": "execute_result"
    }
   ],
   "source": [
    "df.BP.unique()"
   ]
  },
  {
   "cell_type": "code",
   "execution_count": 125,
   "id": "608db3b8",
   "metadata": {},
   "outputs": [
    {
     "data": {
      "text/plain": [
       "array(['HIGH', 'NORMAL'], dtype=object)"
      ]
     },
     "execution_count": 125,
     "metadata": {},
     "output_type": "execute_result"
    }
   ],
   "source": [
    "df.Cholesterol.unique()"
   ]
  },
  {
   "cell_type": "code",
   "execution_count": 126,
   "id": "2783de93",
   "metadata": {},
   "outputs": [
    {
     "data": {
      "text/plain": [
       "array(['drugY', 'drugC', 'drugX', 'drugA', 'drugB'], dtype=object)"
      ]
     },
     "execution_count": 126,
     "metadata": {},
     "output_type": "execute_result"
    }
   ],
   "source": [
    "df.Drug.unique()"
   ]
  },
  {
   "cell_type": "code",
   "execution_count": 127,
   "id": "f4344b7f",
   "metadata": {},
   "outputs": [
    {
     "data": {
      "text/plain": [
       "<AxesSubplot:xlabel='Sex', ylabel='count'>"
      ]
     },
     "execution_count": 127,
     "metadata": {},
     "output_type": "execute_result"
    },
    {
     "data": {
      "image/png": "[encoded data removed]",
      "text/plain": [
       "<Figure size 432x288 with 1 Axes>"
      ]
     },
     "metadata": {
      "needs_background": "light"
     },
     "output_type": "display_data"
    }
   ],
   "source": [
    "sns.countplot(x=\"Sex\", hue=\"Drug\", data=df)"
   ]
  },
  {
   "cell_type": "code",
   "execution_count": 128,
   "id": "2decafc5",
   "metadata": {},
   "outputs": [
    {
     "data": {
      "text/plain": [
       "<AxesSubplot:xlabel='BP', ylabel='count'>"
      ]
     },
     "execution_count": 128,
     "metadata": {},
     "output_type": "execute_result"
    },
    {
     "data": {
      "image/png": "[encoded data removed]",
      "text/plain": [
       "<Figure size 432x288 with 1 Axes>"
      ]
     },
     "metadata": {
      "needs_background": "light"
     },
     "output_type": "display_data"
    }
   ],
   "source": [
    "sns.countplot(x=\"BP\", hue=\"Drug\", data=df)"
   ]
  },
  {
   "cell_type": "code",
   "execution_count": 129,
   "id": "9292b5bb",
   "metadata": {},
   "outputs": [
    {
     "data": {
      "text/plain": [
       "<AxesSubplot:xlabel='Cholesterol', ylabel='count'>"
      ]
     },
     "execution_count": 129,
     "metadata": {},
     "output_type": "execute_result"
    },
    {
     "data": {
      "image/png": "[encoded data removed]",
      "text/plain": [
       "<Figure size 432x288 with 1 Axes>"
      ]
     },
     "metadata": {
      "needs_background": "light"
     },
     "output_type": "display_data"
    }
   ],
   "source": [
    "sns.countplot(x=\"Cholesterol\", hue=\"Drug\", data=df)"
   ]
  },
  {
   "cell_type": "code",
   "execution_count": 130,
   "id": "b6fc6733",
   "metadata": {},
   "outputs": [
    {
     "data": {
      "image/png": "[encoded data removed]",
      "text/plain": [
       "<Figure size 432x288 with 1 Axes>"
      ]
     },
     "metadata": {
      "needs_background": "light"
     },
     "output_type": "display_data"
    },
    {
     "data": {
      "image/png": "[encoded data removed]",
      "text/plain": [
       "<Figure size 432x288 with 1 Axes>"
      ]
     },
     "metadata": {
      "needs_background": "light"
     },
     "output_type": "display_data"
    },
    {
     "data": {
      "image/png": "[encoded data removed]",
      "text/plain": [
       "<Figure size 432x288 with 1 Axes>"
      ]
     },
     "metadata": {
      "needs_background": "light"
     },
     "output_type": "display_data"
    },
    {
     "data": {
      "image/png": "[encoded data removed]",
      "text/plain": [
       "<Figure size 432x288 with 1 Axes>"
      ]
     },
     "metadata": {
      "needs_background": "light"
     },
     "output_type": "display_data"
    }
   ],
   "source": [
    "for column in df.columns[1:-1]:\n",
    "    sns.scatterplot(data=df, x=df.index,y=column,hue=\"Drug\")\n",
    "    plt.show()"
   ]
  },
  {
   "cell_type": "code",
   "execution_count": 131,
   "id": "de082a44",
   "metadata": {},
   "outputs": [],
   "source": [
    "le=preprocessing.LabelEncoder()"
   ]
  },
  {
   "cell_type": "code",
   "execution_count": 132,
   "id": "6760b603",
   "metadata": {},
   "outputs": [],
   "source": [
    "df[\"Sex\"]=le.fit(['F', 'M']).transform(df[\"Sex\"])\n",
    "df[\"BP\"]=le.fit(['HIGH', 'LOW', 'NORMAL']).transform(df[\"BP\"])\n",
    "df[\"Cholesterol\"]=le.fit(['HIGH', 'NORMAL']).transform(df[\"Cholesterol\"])"
   ]
  },
  {
   "cell_type": "code",
   "execution_count": 133,
   "id": "4e07cc47",
   "metadata": {},
   "outputs": [
    {
     "data": {
      "text/html": [
       "<div>\n",
       "<style scoped>\n",
       "    .dataframe tbody tr th:only-of-type {\n",
       "        vertical-align: middle;\n",
       "    }\n",
       "\n",
       "    .dataframe tbody tr th {\n",
       "        vertical-align: top;\n",
       "    }\n",
       "\n",
       "    .dataframe thead tr th {\n",
       "        text-align: left;\n",
       "    }\n",
       "\n",
       "    .dataframe thead tr:last-of-type th {\n",
       "        text-align: right;\n",
       "    }\n",
       "</style>\n",
       "<table border=\"1\" class=\"dataframe\">\n",
       "  <thead>\n",
       "    <tr>\n",
       "      <th></th>\n",
       "      <th colspan=\"4\" halign=\"left\">Age</th>\n",
       "      <th colspan=\"4\" halign=\"left\">Sex</th>\n",
       "      <th colspan=\"4\" halign=\"left\">BP</th>\n",
       "      <th colspan=\"4\" halign=\"left\">Cholesterol</th>\n",
       "      <th colspan=\"4\" halign=\"left\">Na_to_K</th>\n",
       "    </tr>\n",
       "    <tr>\n",
       "      <th></th>\n",
       "      <th>min</th>\n",
       "      <th>max</th>\n",
       "      <th>std</th>\n",
       "      <th>mean</th>\n",
       "      <th>min</th>\n",
       "      <th>max</th>\n",
       "      <th>std</th>\n",
       "      <th>mean</th>\n",
       "      <th>min</th>\n",
       "      <th>max</th>\n",
       "      <th>std</th>\n",
       "      <th>mean</th>\n",
       "      <th>min</th>\n",
       "      <th>max</th>\n",
       "      <th>std</th>\n",
       "      <th>mean</th>\n",
       "      <th>min</th>\n",
       "      <th>max</th>\n",
       "      <th>std</th>\n",
       "      <th>mean</th>\n",
       "    </tr>\n",
       "    <tr>\n",
       "      <th>Drug</th>\n",
       "      <th></th>\n",
       "      <th></th>\n",
       "      <th></th>\n",
       "      <th></th>\n",
       "      <th></th>\n",
       "      <th></th>\n",
       "      <th></th>\n",
       "      <th></th>\n",
       "      <th></th>\n",
       "      <th></th>\n",
       "      <th></th>\n",
       "      <th></th>\n",
       "      <th></th>\n",
       "      <th></th>\n",
       "      <th></th>\n",
       "      <th></th>\n",
       "      <th></th>\n",
       "      <th></th>\n",
       "      <th></th>\n",
       "      <th></th>\n",
       "    </tr>\n",
       "  </thead>\n",
       "  <tbody>\n",
       "    <tr>\n",
       "      <th>drugA</th>\n",
       "      <td>19</td>\n",
       "      <td>50</td>\n",
       "      <td>9.696786</td>\n",
       "      <td>35.869565</td>\n",
       "      <td>0</td>\n",
       "      <td>1</td>\n",
       "      <td>0.499011</td>\n",
       "      <td>0.608696</td>\n",
       "      <td>0</td>\n",
       "      <td>0</td>\n",
       "      <td>0.000000</td>\n",
       "      <td>0.000000</td>\n",
       "      <td>0</td>\n",
       "      <td>1</td>\n",
       "      <td>0.510754</td>\n",
       "      <td>0.478261</td>\n",
       "      <td>6.269</td>\n",
       "      <td>13.972</td>\n",
       "      <td>2.037642</td>\n",
       "      <td>10.918783</td>\n",
       "    </tr>\n",
       "    <tr>\n",
       "      <th>drugB</th>\n",
       "      <td>51</td>\n",
       "      <td>74</td>\n",
       "      <td>7.127412</td>\n",
       "      <td>62.500000</td>\n",
       "      <td>0</td>\n",
       "      <td>1</td>\n",
       "      <td>0.500000</td>\n",
       "      <td>0.625000</td>\n",
       "      <td>0</td>\n",
       "      <td>0</td>\n",
       "      <td>0.000000</td>\n",
       "      <td>0.000000</td>\n",
       "      <td>0</td>\n",
       "      <td>1</td>\n",
       "      <td>0.516398</td>\n",
       "      <td>0.500000</td>\n",
       "      <td>8.621</td>\n",
       "      <td>14.239</td>\n",
       "      <td>1.869919</td>\n",
       "      <td>11.524375</td>\n",
       "    </tr>\n",
       "    <tr>\n",
       "      <th>drugC</th>\n",
       "      <td>16</td>\n",
       "      <td>72</td>\n",
       "      <td>16.725230</td>\n",
       "      <td>42.500000</td>\n",
       "      <td>0</td>\n",
       "      <td>1</td>\n",
       "      <td>0.512348</td>\n",
       "      <td>0.562500</td>\n",
       "      <td>1</td>\n",
       "      <td>1</td>\n",
       "      <td>0.000000</td>\n",
       "      <td>1.000000</td>\n",
       "      <td>0</td>\n",
       "      <td>0</td>\n",
       "      <td>0.000000</td>\n",
       "      <td>0.000000</td>\n",
       "      <td>6.769</td>\n",
       "      <td>14.160</td>\n",
       "      <td>2.045009</td>\n",
       "      <td>10.633750</td>\n",
       "    </tr>\n",
       "    <tr>\n",
       "      <th>drugX</th>\n",
       "      <td>15</td>\n",
       "      <td>74</td>\n",
       "      <td>16.435685</td>\n",
       "      <td>44.018519</td>\n",
       "      <td>0</td>\n",
       "      <td>1</td>\n",
       "      <td>0.504695</td>\n",
       "      <td>0.500000</td>\n",
       "      <td>1</td>\n",
       "      <td>2</td>\n",
       "      <td>0.475831</td>\n",
       "      <td>1.666667</td>\n",
       "      <td>0</td>\n",
       "      <td>1</td>\n",
       "      <td>0.487438</td>\n",
       "      <td>0.629630</td>\n",
       "      <td>6.683</td>\n",
       "      <td>14.642</td>\n",
       "      <td>2.198091</td>\n",
       "      <td>10.650556</td>\n",
       "    </tr>\n",
       "    <tr>\n",
       "      <th>drugY</th>\n",
       "      <td>15</td>\n",
       "      <td>74</td>\n",
       "      <td>17.031731</td>\n",
       "      <td>43.747253</td>\n",
       "      <td>0</td>\n",
       "      <td>1</td>\n",
       "      <td>0.502497</td>\n",
       "      <td>0.483516</td>\n",
       "      <td>0</td>\n",
       "      <td>2</td>\n",
       "      <td>0.806415</td>\n",
       "      <td>0.835165</td>\n",
       "      <td>0</td>\n",
       "      <td>1</td>\n",
       "      <td>0.502497</td>\n",
       "      <td>0.483516</td>\n",
       "      <td>15.015</td>\n",
       "      <td>38.247</td>\n",
       "      <td>6.060195</td>\n",
       "      <td>22.374780</td>\n",
       "    </tr>\n",
       "  </tbody>\n",
       "</table>\n",
       "</div>"
      ],
      "text/plain": [
       "      Age                           Sex                          BP      \\\n",
       "      min max        std       mean min max       std      mean min max   \n",
       "Drug                                                                      \n",
       "drugA  19  50   9.696786  35.869565   0   1  0.499011  0.608696   0   0   \n",
       "drugB  51  74   7.127412  62.500000   0   1  0.500000  0.625000   0   0   \n",
       "drugC  16  72  16.725230  42.500000   0   1  0.512348  0.562500   1   1   \n",
       "drugX  15  74  16.435685  44.018519   0   1  0.504695  0.500000   1   2   \n",
       "drugY  15  74  17.031731  43.747253   0   1  0.502497  0.483516   0   2   \n",
       "\n",
       "                          Cholesterol                         Na_to_K          \\\n",
       "            std      mean         min max       std      mean     min     max   \n",
       "Drug                                                                            \n",
       "drugA  0.000000  0.000000           0   1  0.510754  0.478261   6.269  13.972   \n",
       "drugB  0.000000  0.000000           0   1  0.516398  0.500000   8.621  14.239   \n",
       "drugC  0.000000  1.000000           0   0  0.000000  0.000000   6.769  14.160   \n",
       "drugX  0.475831  1.666667           0   1  0.487438  0.629630   6.683  14.642   \n",
       "drugY  0.806415  0.835165           0   1  0.502497  0.483516  15.015  38.247   \n",
       "\n",
       "                            \n",
       "            std       mean  \n",
       "Drug                        \n",
       "drugA  2.037642  10.918783  \n",
       "drugB  1.869919  11.524375  \n",
       "drugC  2.045009  10.633750  \n",
       "drugX  2.198091  10.650556  \n",
       "drugY  6.060195  22.374780  "
      ]
     },
     "execution_count": 133,
     "metadata": {},
     "output_type": "execute_result"
    }
   ],
   "source": [
    "df.groupby(\"Drug\").agg([\"min\",\"max\",\"std\",\"mean\"])"
   ]
  },
  {
   "cell_type": "code",
   "execution_count": 134,
   "id": "9fcb69eb",
   "metadata": {},
   "outputs": [
    {
     "data": {
      "text/html": [
       "<div>\n",
       "<style scoped>\n",
       "    .dataframe tbody tr th:only-of-type {\n",
       "        vertical-align: middle;\n",
       "    }\n",
       "\n",
       "    .dataframe tbody tr th {\n",
       "        vertical-align: top;\n",
       "    }\n",
       "\n",
       "    .dataframe thead th {\n",
       "        text-align: right;\n",
       "    }\n",
       "</style>\n",
       "<table border=\"1\" class=\"dataframe\">\n",
       "  <thead>\n",
       "    <tr style=\"text-align: right;\">\n",
       "      <th></th>\n",
       "      <th>Age</th>\n",
       "      <th>Sex</th>\n",
       "      <th>BP</th>\n",
       "      <th>Cholesterol</th>\n",
       "      <th>Na_to_K</th>\n",
       "      <th>Drug</th>\n",
       "    </tr>\n",
       "  </thead>\n",
       "  <tbody>\n",
       "    <tr>\n",
       "      <th>0</th>\n",
       "      <td>23</td>\n",
       "      <td>0</td>\n",
       "      <td>0</td>\n",
       "      <td>0</td>\n",
       "      <td>25.355</td>\n",
       "      <td>4</td>\n",
       "    </tr>\n",
       "    <tr>\n",
       "      <th>1</th>\n",
       "      <td>47</td>\n",
       "      <td>1</td>\n",
       "      <td>1</td>\n",
       "      <td>0</td>\n",
       "      <td>13.093</td>\n",
       "      <td>2</td>\n",
       "    </tr>\n",
       "    <tr>\n",
       "      <th>2</th>\n",
       "      <td>47</td>\n",
       "      <td>1</td>\n",
       "      <td>1</td>\n",
       "      <td>0</td>\n",
       "      <td>10.114</td>\n",
       "      <td>2</td>\n",
       "    </tr>\n",
       "    <tr>\n",
       "      <th>3</th>\n",
       "      <td>28</td>\n",
       "      <td>0</td>\n",
       "      <td>2</td>\n",
       "      <td>0</td>\n",
       "      <td>7.798</td>\n",
       "      <td>3</td>\n",
       "    </tr>\n",
       "    <tr>\n",
       "      <th>4</th>\n",
       "      <td>61</td>\n",
       "      <td>0</td>\n",
       "      <td>1</td>\n",
       "      <td>0</td>\n",
       "      <td>18.043</td>\n",
       "      <td>4</td>\n",
       "    </tr>\n",
       "    <tr>\n",
       "      <th>...</th>\n",
       "      <td>...</td>\n",
       "      <td>...</td>\n",
       "      <td>...</td>\n",
       "      <td>...</td>\n",
       "      <td>...</td>\n",
       "      <td>...</td>\n",
       "    </tr>\n",
       "    <tr>\n",
       "      <th>195</th>\n",
       "      <td>56</td>\n",
       "      <td>0</td>\n",
       "      <td>1</td>\n",
       "      <td>0</td>\n",
       "      <td>11.567</td>\n",
       "      <td>2</td>\n",
       "    </tr>\n",
       "    <tr>\n",
       "      <th>196</th>\n",
       "      <td>16</td>\n",
       "      <td>1</td>\n",
       "      <td>1</td>\n",
       "      <td>0</td>\n",
       "      <td>12.006</td>\n",
       "      <td>2</td>\n",
       "    </tr>\n",
       "    <tr>\n",
       "      <th>197</th>\n",
       "      <td>52</td>\n",
       "      <td>1</td>\n",
       "      <td>2</td>\n",
       "      <td>0</td>\n",
       "      <td>9.894</td>\n",
       "      <td>3</td>\n",
       "    </tr>\n",
       "    <tr>\n",
       "      <th>198</th>\n",
       "      <td>23</td>\n",
       "      <td>1</td>\n",
       "      <td>2</td>\n",
       "      <td>1</td>\n",
       "      <td>14.020</td>\n",
       "      <td>3</td>\n",
       "    </tr>\n",
       "    <tr>\n",
       "      <th>199</th>\n",
       "      <td>40</td>\n",
       "      <td>0</td>\n",
       "      <td>1</td>\n",
       "      <td>1</td>\n",
       "      <td>11.349</td>\n",
       "      <td>3</td>\n",
       "    </tr>\n",
       "  </tbody>\n",
       "</table>\n",
       "<p>200 rows × 6 columns</p>\n",
       "</div>"
      ],
      "text/plain": [
       "     Age  Sex  BP  Cholesterol  Na_to_K  Drug\n",
       "0     23    0   0            0   25.355     4\n",
       "1     47    1   1            0   13.093     2\n",
       "2     47    1   1            0   10.114     2\n",
       "3     28    0   2            0    7.798     3\n",
       "4     61    0   1            0   18.043     4\n",
       "..   ...  ...  ..          ...      ...   ...\n",
       "195   56    0   1            0   11.567     2\n",
       "196   16    1   1            0   12.006     2\n",
       "197   52    1   2            0    9.894     3\n",
       "198   23    1   2            1   14.020     3\n",
       "199   40    0   1            1   11.349     3\n",
       "\n",
       "[200 rows x 6 columns]"
      ]
     },
     "execution_count": 134,
     "metadata": {},
     "output_type": "execute_result"
    }
   ],
   "source": [
    "df[\"Drug\"]=le.fit(['drugY', 'drugC', 'drugX', 'drugA', 'drugB']).transform(df[\"Drug\"])\n",
    "df"
   ]
  },
  {
   "cell_type": "code",
   "execution_count": 135,
   "id": "afcb9431",
   "metadata": {},
   "outputs": [
    {
     "data": {
      "text/html": [
       "<div>\n",
       "<style scoped>\n",
       "    .dataframe tbody tr th:only-of-type {\n",
       "        vertical-align: middle;\n",
       "    }\n",
       "\n",
       "    .dataframe tbody tr th {\n",
       "        vertical-align: top;\n",
       "    }\n",
       "\n",
       "    .dataframe thead th {\n",
       "        text-align: right;\n",
       "    }\n",
       "</style>\n",
       "<table border=\"1\" class=\"dataframe\">\n",
       "  <thead>\n",
       "    <tr style=\"text-align: right;\">\n",
       "      <th></th>\n",
       "      <th>Age</th>\n",
       "      <th>Sex</th>\n",
       "      <th>BP</th>\n",
       "      <th>Cholesterol</th>\n",
       "      <th>Na_to_K</th>\n",
       "      <th>Drug</th>\n",
       "    </tr>\n",
       "  </thead>\n",
       "  <tbody>\n",
       "    <tr>\n",
       "      <th>Age</th>\n",
       "      <td>1.000000</td>\n",
       "      <td>0.102027</td>\n",
       "      <td>0.054212</td>\n",
       "      <td>-0.068234</td>\n",
       "      <td>-0.063119</td>\n",
       "      <td>-0.004828</td>\n",
       "    </tr>\n",
       "    <tr>\n",
       "      <th>Sex</th>\n",
       "      <td>0.102027</td>\n",
       "      <td>1.000000</td>\n",
       "      <td>-0.007814</td>\n",
       "      <td>-0.008811</td>\n",
       "      <td>-0.125008</td>\n",
       "      <td>-0.098573</td>\n",
       "    </tr>\n",
       "    <tr>\n",
       "      <th>BP</th>\n",
       "      <td>0.054212</td>\n",
       "      <td>-0.007814</td>\n",
       "      <td>1.000000</td>\n",
       "      <td>-0.137552</td>\n",
       "      <td>-0.149312</td>\n",
       "      <td>0.372868</td>\n",
       "    </tr>\n",
       "    <tr>\n",
       "      <th>Cholesterol</th>\n",
       "      <td>-0.068234</td>\n",
       "      <td>-0.008811</td>\n",
       "      <td>-0.137552</td>\n",
       "      <td>1.000000</td>\n",
       "      <td>0.010000</td>\n",
       "      <td>0.055629</td>\n",
       "    </tr>\n",
       "    <tr>\n",
       "      <th>Na_to_K</th>\n",
       "      <td>-0.063119</td>\n",
       "      <td>-0.125008</td>\n",
       "      <td>-0.149312</td>\n",
       "      <td>0.010000</td>\n",
       "      <td>1.000000</td>\n",
       "      <td>0.589120</td>\n",
       "    </tr>\n",
       "    <tr>\n",
       "      <th>Drug</th>\n",
       "      <td>-0.004828</td>\n",
       "      <td>-0.098573</td>\n",
       "      <td>0.372868</td>\n",
       "      <td>0.055629</td>\n",
       "      <td>0.589120</td>\n",
       "      <td>1.000000</td>\n",
       "    </tr>\n",
       "  </tbody>\n",
       "</table>\n",
       "</div>"
      ],
      "text/plain": [
       "                  Age       Sex        BP  Cholesterol   Na_to_K      Drug\n",
       "Age          1.000000  0.102027  0.054212    -0.068234 -0.063119 -0.004828\n",
       "Sex          0.102027  1.000000 -0.007814    -0.008811 -0.125008 -0.098573\n",
       "BP           0.054212 -0.007814  1.000000    -0.137552 -0.149312  0.372868\n",
       "Cholesterol -0.068234 -0.008811 -0.137552     1.000000  0.010000  0.055629\n",
       "Na_to_K     -0.063119 -0.125008 -0.149312     0.010000  1.000000  0.589120\n",
       "Drug        -0.004828 -0.098573  0.372868     0.055629  0.589120  1.000000"
      ]
     },
     "execution_count": 135,
     "metadata": {},
     "output_type": "execute_result"
    }
   ],
   "source": [
    "df.corr()"
   ]
  },
  {
   "cell_type": "code",
   "execution_count": 136,
   "id": "aa0ce7f2",
   "metadata": {},
   "outputs": [
    {
     "data": {
      "text/plain": [
       "<AxesSubplot:>"
      ]
     },
     "execution_count": 136,
     "metadata": {},
     "output_type": "execute_result"
    },
    {
     "data": {
      "image/png": "[encoded data removed]",
      "text/plain": [
       "<Figure size 432x288 with 2 Axes>"
      ]
     },
     "metadata": {
      "needs_background": "light"
     },
     "output_type": "display_data"
    }
   ],
   "source": [
    "sns.heatmap(df.corr())"
   ]
  },
  {
   "cell_type": "code",
   "execution_count": null,
   "id": "f32b8bd3",
   "metadata": {},
   "outputs": [],
   "source": []
  },
  {
   "cell_type": "code",
   "execution_count": 137,
   "id": "96a7a5b3",
   "metadata": {},
   "outputs": [],
   "source": [
    "X=df[[\"Age\",\"Sex\",\"BP\",\"Cholesterol\",\"Na_to_K\"]].values\n",
    "y=df[\"Drug\"].values"
   ]
  },
  {
   "cell_type": "code",
   "execution_count": 138,
   "id": "d9cda388",
   "metadata": {},
   "outputs": [],
   "source": [
    "X_train, X_test, y_train, y_test = train_test_split(X, y, test_size=0.3, random_state=42)"
   ]
  },
  {
   "cell_type": "markdown",
   "id": "77906f1e",
   "metadata": {},
   "source": [
    "# LOGISTIC REGRESSION"
   ]
  },
  {
   "cell_type": "code",
   "execution_count": 139,
   "id": "b103ff3f",
   "metadata": {},
   "outputs": [
    {
     "data": {
      "text/plain": [
       "LogisticRegression(C=0.1, max_iter=2000)"
      ]
     },
     "execution_count": 139,
     "metadata": {},
     "output_type": "execute_result"
    }
   ],
   "source": [
    "lr=LogisticRegression(C=0.1,max_iter=2000)\n",
    "lr.fit(X_train, y_train)"
   ]
  },
  {
   "cell_type": "code",
   "execution_count": 140,
   "id": "9efb305a",
   "metadata": {},
   "outputs": [
    {
     "data": {
      "text/plain": [
       "array([[-6.76115042e-02,  6.63820970e-04, -7.00049259e-01,\n",
       "        -1.44595935e-02, -2.87888373e-01],\n",
       "       [ 1.03839981e-01, -4.04343735e-02, -5.94268315e-01,\n",
       "         7.86548396e-02, -1.22067281e-01],\n",
       "       [-1.83820596e-02,  1.30967420e-01,  1.25692846e-01,\n",
       "        -3.69913455e-01, -2.82621792e-01],\n",
       "       [-1.05520032e-02, -1.49094080e-01,  1.03598934e+00,\n",
       "         3.37204437e-01, -2.81739339e-01],\n",
       "       [-7.29441416e-03,  5.78972124e-02,  1.32635387e-01,\n",
       "        -3.14862280e-02,  9.74316784e-01]])"
      ]
     },
     "execution_count": 140,
     "metadata": {},
     "output_type": "execute_result"
    }
   ],
   "source": [
    "lr.coef_"
   ]
  },
  {
   "cell_type": "code",
   "execution_count": 141,
   "id": "8ca89169",
   "metadata": {},
   "outputs": [
    {
     "data": {
      "text/plain": [
       "array([  7.37333824,  -3.34290515,   4.45054648,   4.20388151,\n",
       "       -12.68486108])"
      ]
     },
     "execution_count": 141,
     "metadata": {},
     "output_type": "execute_result"
    }
   ],
   "source": [
    "lr.intercept_"
   ]
  },
  {
   "cell_type": "code",
   "execution_count": 142,
   "id": "63517207",
   "metadata": {},
   "outputs": [
    {
     "data": {
      "text/plain": [
       "0.9"
      ]
     },
     "execution_count": 142,
     "metadata": {},
     "output_type": "execute_result"
    }
   ],
   "source": [
    "lr.score(X_train,y_train)"
   ]
  },
  {
   "cell_type": "code",
   "execution_count": 143,
   "id": "2daa0743",
   "metadata": {},
   "outputs": [
    {
     "data": {
      "text/plain": [
       "0.85"
      ]
     },
     "execution_count": 143,
     "metadata": {},
     "output_type": "execute_result"
    }
   ],
   "source": [
    "lr.score(X_test,y_test)"
   ]
  },
  {
   "cell_type": "code",
   "execution_count": 144,
   "id": "d421702c",
   "metadata": {},
   "outputs": [
    {
     "data": {
      "text/plain": [
       "array([3, 4, 3, 3, 4, 4, 4, 3, 0, 3, 0, 3, 4, 0, 1, 4, 1, 3, 3, 4, 1, 1,\n",
       "       3, 4, 4, 4, 3, 3, 4, 3, 4, 0, 4, 4, 0, 4, 1, 0, 4, 0, 3, 3, 3, 4,\n",
       "       4, 3, 4, 4, 1, 3, 3, 4, 3, 4, 3, 4, 0, 4, 4, 4])"
      ]
     },
     "execution_count": 144,
     "metadata": {},
     "output_type": "execute_result"
    }
   ],
   "source": [
    "test_lr=lr.predict(X_test)\n",
    "test_lr"
   ]
  },
  {
   "cell_type": "code",
   "execution_count": 145,
   "id": "aa3fb955",
   "metadata": {},
   "outputs": [
    {
     "data": {
      "text/plain": [
       "array([3, 4, 3, 2, 4, 4, 4, 3, 0, 3, 0, 3, 4, 0, 1, 4, 1, 3, 2, 4, 1, 3,\n",
       "       3, 4, 4, 4, 2, 3, 4, 3, 4, 2, 2, 4, 0, 4, 3, 0, 4, 0, 3, 3, 3, 4,\n",
       "       4, 2, 4, 4, 4, 3, 3, 4, 3, 4, 3, 4, 0, 4, 4, 4])"
      ]
     },
     "execution_count": 145,
     "metadata": {},
     "output_type": "execute_result"
    }
   ],
   "source": [
    "np.array(y_test)"
   ]
  },
  {
   "cell_type": "code",
   "execution_count": 146,
   "id": "2a1ce1dc",
   "metadata": {},
   "outputs": [
    {
     "data": {
      "text/plain": [
       "0.7590027700831026"
      ]
     },
     "execution_count": 146,
     "metadata": {},
     "output_type": "execute_result"
    }
   ],
   "source": [
    "metrics.r2_score(test_lr,y_test)"
   ]
  },
  {
   "cell_type": "code",
   "execution_count": 147,
   "id": "3646cf20",
   "metadata": {},
   "outputs": [
    {
     "data": {
      "text/plain": [
       "0.85"
      ]
     },
     "execution_count": 147,
     "metadata": {},
     "output_type": "execute_result"
    }
   ],
   "source": [
    "metrics.accuracy_score(test_lr,y_test)"
   ]
  },
  {
   "cell_type": "code",
   "execution_count": 148,
   "id": "bb8b55cc",
   "metadata": {},
   "outputs": [
    {
     "data": {
      "text/plain": [
       "array([[ 7,  0,  1,  0,  0],\n",
       "       [ 0,  3,  0,  2,  1],\n",
       "       [ 0,  0,  0,  0,  0],\n",
       "       [ 0,  0,  4, 16,  0],\n",
       "       [ 0,  0,  1,  0, 25]], dtype=int64)"
      ]
     },
     "execution_count": 148,
     "metadata": {},
     "output_type": "execute_result"
    }
   ],
   "source": [
    "metrics.confusion_matrix(test_lr,y_test)"
   ]
  },
  {
   "cell_type": "markdown",
   "id": "ae297064",
   "metadata": {},
   "source": [
    "# XGBOOST"
   ]
  },
  {
   "cell_type": "code",
   "execution_count": 149,
   "id": "b25efaae",
   "metadata": {},
   "outputs": [],
   "source": [
    "xgb=xgb.XGBClassifier(objective=\"multi:softmax\", num_class=5)"
   ]
  },
  {
   "cell_type": "code",
   "execution_count": 150,
   "id": "eb23b0e0",
   "metadata": {},
   "outputs": [
    {
     "data": {
      "text/plain": [
       "XGBClassifier(base_score=None, booster=None, callbacks=None,\n",
       "              colsample_bylevel=None, colsample_bynode=None,\n",
       "              colsample_bytree=None, early_stopping_rounds=None,\n",
       "              enable_categorical=False, eval_metric=None, feature_types=None,\n",
       "              gamma=None, gpu_id=None, grow_policy=None, importance_type=None,\n",
       "              interaction_constraints=None, learning_rate=None, max_bin=None,\n",
       "              max_cat_threshold=None, max_cat_to_onehot=None,\n",
       "              max_delta_step=None, max_depth=None, max_leaves=None,\n",
       "              min_child_weight=None, missing=nan, monotone_constraints=None,\n",
       "              n_estimators=100, n_jobs=None, num_class=5,\n",
       "              num_parallel_tree=None, objective='multi:softmax', ...)"
      ]
     },
     "execution_count": 150,
     "metadata": {},
     "output_type": "execute_result"
    }
   ],
   "source": [
    "xgb.fit(X_train,y_train)"
   ]
  },
  {
   "cell_type": "code",
   "execution_count": 151,
   "id": "0c2377c8",
   "metadata": {},
   "outputs": [
    {
     "data": {
      "text/plain": [
       "array([3, 4, 3, 2, 4, 4, 4, 3, 0, 3, 0, 3, 4, 0, 1, 4, 1, 3, 2, 4, 1, 3,\n",
       "       3, 4, 4, 4, 2, 3, 4, 3, 4, 2, 3, 4, 0, 4, 3, 0, 4, 0, 3, 3, 3, 4,\n",
       "       4, 2, 4, 4, 4, 3, 3, 4, 3, 4, 3, 4, 0, 4, 4, 4])"
      ]
     },
     "execution_count": 151,
     "metadata": {},
     "output_type": "execute_result"
    }
   ],
   "source": [
    "test_xgb=xgb.predict(X_test)\n",
    "test_xgb"
   ]
  },
  {
   "cell_type": "code",
   "execution_count": 152,
   "id": "a488a30e",
   "metadata": {},
   "outputs": [
    {
     "data": {
      "text/plain": [
       "array([3, 4, 3, 2, 4, 4, 4, 3, 0, 3, 0, 3, 4, 0, 1, 4, 1, 3, 2, 4, 1, 3,\n",
       "       3, 4, 4, 4, 2, 3, 4, 3, 4, 2, 2, 4, 0, 4, 3, 0, 4, 0, 3, 3, 3, 4,\n",
       "       4, 2, 4, 4, 4, 3, 3, 4, 3, 4, 3, 4, 0, 4, 4, 4])"
      ]
     },
     "execution_count": 152,
     "metadata": {},
     "output_type": "execute_result"
    }
   ],
   "source": [
    "np.array(y_test)"
   ]
  },
  {
   "cell_type": "code",
   "execution_count": 153,
   "id": "8439445c",
   "metadata": {},
   "outputs": [
    {
     "data": {
      "text/plain": [
       "1.0"
      ]
     },
     "execution_count": 153,
     "metadata": {},
     "output_type": "execute_result"
    }
   ],
   "source": [
    "xgb.score(X_train,y_train)"
   ]
  },
  {
   "cell_type": "code",
   "execution_count": 154,
   "id": "7172afce",
   "metadata": {},
   "outputs": [
    {
     "data": {
      "text/plain": [
       "0.9833333333333333"
      ]
     },
     "execution_count": 154,
     "metadata": {},
     "output_type": "execute_result"
    }
   ],
   "source": [
    "xgb.score(X_test,y_test)"
   ]
  },
  {
   "cell_type": "code",
   "execution_count": 155,
   "id": "e2e47e16",
   "metadata": {},
   "outputs": [
    {
     "data": {
      "text/plain": [
       "0.9905123339658444"
      ]
     },
     "execution_count": 155,
     "metadata": {},
     "output_type": "execute_result"
    }
   ],
   "source": [
    "metrics.r2_score(test_xgb,y_test)"
   ]
  },
  {
   "cell_type": "code",
   "execution_count": 156,
   "id": "3f2a8d91",
   "metadata": {},
   "outputs": [
    {
     "data": {
      "text/plain": [
       "0.9833333333333333"
      ]
     },
     "execution_count": 156,
     "metadata": {},
     "output_type": "execute_result"
    }
   ],
   "source": [
    "metrics.accuracy_score(test_xgb,y_test)"
   ]
  },
  {
   "cell_type": "code",
   "execution_count": 157,
   "id": "c457ef41",
   "metadata": {},
   "outputs": [
    {
     "data": {
      "text/plain": [
       "array([[ 7,  0,  0,  0,  0],\n",
       "       [ 0,  3,  0,  0,  0],\n",
       "       [ 0,  0,  5,  0,  0],\n",
       "       [ 0,  0,  1, 18,  0],\n",
       "       [ 0,  0,  0,  0, 26]], dtype=int64)"
      ]
     },
     "execution_count": 157,
     "metadata": {},
     "output_type": "execute_result"
    }
   ],
   "source": [
    "metrics.confusion_matrix(test_xgb,y_test)"
   ]
  },
  {
   "cell_type": "markdown",
   "id": "4c910ce9",
   "metadata": {},
   "source": [
    "# K NEAREST NEIGHBOR"
   ]
  },
  {
   "cell_type": "code",
   "execution_count": 158,
   "id": "bc32d803",
   "metadata": {},
   "outputs": [
    {
     "name": "stdout",
     "output_type": "stream",
     "text": [
      "\n",
      "Optimization of Parameters: \n",
      "best accuracy score: 0.8166666666666667 \n",
      "neighbour: 7 \n",
      "weights: distance \n",
      "algorithm: auto \n",
      "leaf: 20 \n",
      "p: 1 \n",
      "-------------------------\n"
     ]
    }
   ],
   "source": [
    "n_neighbors=range(1,11)\n",
    "weights=[\"uniform\",\"distance\"]\n",
    "algorithm=[\"auto\",\"ball_tree\",\"kd_tree\",\"brute\"]\n",
    "leaf=[20,30,40,50,60]\n",
    "p=[1,2,3,4,5,6,7,8,9]\n",
    "\n",
    "best_score=0\n",
    "\n",
    "for i in n_neighbors:\n",
    "    for j in weights:\n",
    "        for k in algorithm:\n",
    "            for l in leaf:\n",
    "                for m in p:\n",
    "                    knn=KNeighborsClassifier(n_neighbors=i, weights=j, algorithm=k, leaf_size=l, p=m)\n",
    "                    knn.fit(X_train,y_train)\n",
    "                    test_knn=knn.predict(X_test)\n",
    "                    acc_sc=metrics.accuracy_score(y_test,test_knn)\n",
    "                    \n",
    "                    \n",
    "                    if best_score<acc_sc:\n",
    "                        best_score=acc_sc\n",
    "                        ibest=i\n",
    "                        jbest=j\n",
    "                        kbest=k\n",
    "                        lbest=l\n",
    "                        mbest=m\n",
    "                    \n",
    "print(\"\\nOptimization of Parameters:\",\n",
    "      \"\\nbest accuracy score:\",best_score,\n",
    "      \"\\nneighbour:\",ibest,\n",
    "      \"\\nweights:\",jbest,\n",
    "      \"\\nalgorithm:\",kbest,\n",
    "      \"\\nleaf:\",lbest,\n",
    "      \"\\np:\",mbest,\n",
    "      \"\\n-------------------------\")"
   ]
  },
  {
   "cell_type": "code",
   "execution_count": 159,
   "id": "59044894",
   "metadata": {},
   "outputs": [
    {
     "data": {
      "text/plain": [
       "KNeighborsClassifier(leaf_size=20, n_neighbors=7, p=1, weights='distance')"
      ]
     },
     "execution_count": 159,
     "metadata": {},
     "output_type": "execute_result"
    }
   ],
   "source": [
    "knn_best=KNeighborsClassifier(n_neighbors=7, weights=\"distance\", algorithm=\"auto\", leaf_size=20, p=1)\n",
    "knn_best.fit(X_train,y_train)"
   ]
  },
  {
   "cell_type": "code",
   "execution_count": 160,
   "id": "e9193284",
   "metadata": {},
   "outputs": [
    {
     "data": {
      "text/plain": [
       "array([3, 4, 3, 1, 4, 4, 4, 2, 3, 3, 0, 3, 4, 0, 1, 4, 3, 3, 0, 4, 1, 3,\n",
       "       3, 4, 4, 4, 2, 3, 4, 3, 4, 0, 3, 4, 0, 4, 1, 0, 4, 0, 0, 3, 3, 4,\n",
       "       4, 1, 4, 4, 4, 3, 3, 4, 3, 4, 3, 4, 3, 4, 4, 4])"
      ]
     },
     "execution_count": 160,
     "metadata": {},
     "output_type": "execute_result"
    }
   ],
   "source": [
    "pred=knn_best.predict(X_test)\n",
    "pred"
   ]
  },
  {
   "cell_type": "code",
   "execution_count": 161,
   "id": "359d3e74",
   "metadata": {},
   "outputs": [
    {
     "data": {
      "text/plain": [
       "array([3, 4, 3, 2, 4, 4, 4, 3, 0, 3, 0, 3, 4, 0, 1, 4, 1, 3, 2, 4, 1, 3,\n",
       "       3, 4, 4, 4, 2, 3, 4, 3, 4, 2, 2, 4, 0, 4, 3, 0, 4, 0, 3, 3, 3, 4,\n",
       "       4, 2, 4, 4, 4, 3, 3, 4, 3, 4, 3, 4, 0, 4, 4, 4])"
      ]
     },
     "execution_count": 161,
     "metadata": {},
     "output_type": "execute_result"
    }
   ],
   "source": [
    "np.array(y_test)"
   ]
  },
  {
   "cell_type": "code",
   "execution_count": 162,
   "id": "800b6c05",
   "metadata": {},
   "outputs": [
    {
     "data": {
      "text/plain": [
       "0.6028169014084508"
      ]
     },
     "execution_count": 162,
     "metadata": {},
     "output_type": "execute_result"
    }
   ],
   "source": [
    "metrics.r2_score(pred,y_test)"
   ]
  },
  {
   "cell_type": "code",
   "execution_count": 163,
   "id": "fd2e0640",
   "metadata": {},
   "outputs": [
    {
     "data": {
      "text/plain": [
       "0.8166666666666667"
      ]
     },
     "execution_count": 163,
     "metadata": {},
     "output_type": "execute_result"
    }
   ],
   "source": [
    "metrics.accuracy_score(pred,y_test)"
   ]
  },
  {
   "cell_type": "code",
   "execution_count": 164,
   "id": "2413cb54",
   "metadata": {},
   "outputs": [
    {
     "data": {
      "text/plain": [
       "array([[ 5,  0,  2,  1,  0],\n",
       "       [ 0,  2,  2,  1,  0],\n",
       "       [ 0,  0,  1,  1,  0],\n",
       "       [ 2,  1,  1, 15,  0],\n",
       "       [ 0,  0,  0,  0, 26]], dtype=int64)"
      ]
     },
     "execution_count": 164,
     "metadata": {},
     "output_type": "execute_result"
    }
   ],
   "source": [
    "metrics.confusion_matrix(pred,y_test)"
   ]
  },
  {
   "cell_type": "markdown",
   "id": "9b20c9a6",
   "metadata": {},
   "source": [
    "# DECISION TREE"
   ]
  },
  {
   "cell_type": "code",
   "execution_count": 165,
   "id": "af4e1d2b",
   "metadata": {},
   "outputs": [
    {
     "name": "stderr",
     "output_type": "stream",
     "text": [
      "C:\\Users\\Esat\\anaconda3\\lib\\site-packages\\sklearn\\model_selection\\_validation.py:372: FitFailedWarning: \n",
      "81920 fits failed out of a total of 122880.\n",
      "The score on these train-test partitions for these parameters will be set to nan.\n",
      "If these failures are not expected, you can try to debug them by setting error_score='raise'.\n",
      "\n",
      "Below are more details about the failures:\n",
      "--------------------------------------------------------------------------------\n",
      "40960 fits failed with the following error:\n",
      "Traceback (most recent call last):\n",
      "  File \"C:\\Users\\Esat\\anaconda3\\lib\\site-packages\\sklearn\\model_selection\\_validation.py\", line 680, in _fit_and_score\n",
      "    estimator.fit(X_train, y_train, **fit_params)\n",
      "  File \"C:\\Users\\Esat\\anaconda3\\lib\\site-packages\\sklearn\\tree\\_classes.py\", line 937, in fit\n",
      "    super().fit(\n",
      "  File \"C:\\Users\\Esat\\anaconda3\\lib\\site-packages\\sklearn\\tree\\_classes.py\", line 352, in fit\n",
      "    criterion = CRITERIA_CLF[self.criterion](\n",
      "KeyError: 'entropi'\n",
      "\n",
      "--------------------------------------------------------------------------------\n",
      "40960 fits failed with the following error:\n",
      "Traceback (most recent call last):\n",
      "  File \"C:\\Users\\Esat\\anaconda3\\lib\\site-packages\\sklearn\\model_selection\\_validation.py\", line 680, in _fit_and_score\n",
      "    estimator.fit(X_train, y_train, **fit_params)\n",
      "  File \"C:\\Users\\Esat\\anaconda3\\lib\\site-packages\\sklearn\\tree\\_classes.py\", line 937, in fit\n",
      "    super().fit(\n",
      "  File \"C:\\Users\\Esat\\anaconda3\\lib\\site-packages\\sklearn\\tree\\_classes.py\", line 352, in fit\n",
      "    criterion = CRITERIA_CLF[self.criterion](\n",
      "KeyError: 'log_loss'\n",
      "\n",
      "  warnings.warn(some_fits_failed_message, FitFailedWarning)\n",
      "C:\\Users\\Esat\\anaconda3\\lib\\site-packages\\sklearn\\model_selection\\_search.py:969: UserWarning: One or more of the test scores are non-finite: [0.72142857 0.72142857 0.72142857 ...        nan        nan        nan]\n",
      "  warnings.warn(\n"
     ]
    },
    {
     "data": {
      "text/plain": [
       "{'criterion': 'gini',\n",
       " 'max_depth': 4,\n",
       " 'max_leaf_nodes': 6,\n",
       " 'min_samples_leaf': 2,\n",
       " 'min_samples_split': 2}"
      ]
     },
     "execution_count": 165,
     "metadata": {},
     "output_type": "execute_result"
    }
   ],
   "source": [
    "model=DecisionTreeClassifier()\n",
    "\n",
    "parameters={\"criterion\":[\"gini\",\"entropi\",\"log_loss\"],\n",
    "           \"max_leaf_nodes\":range(2,10),\n",
    "           \"max_depth\":range(2,10),\n",
    "           \"min_samples_split\":range(2,10),\n",
    "           \"min_samples_leaf\":range(2,10)}\n",
    "grid=GridSearchCV(model,param_grid=parameters,cv=10,n_jobs=-1)\n",
    "grid.fit(X_train,y_train)\n",
    "grid.best_params_"
   ]
  },
  {
   "cell_type": "code",
   "execution_count": 166,
   "id": "7decccee",
   "metadata": {},
   "outputs": [
    {
     "data": {
      "text/plain": [
       "array([3, 4, 3, 2, 4, 4, 4, 3, 0, 3, 0, 3, 4, 0, 1, 4, 1, 3, 2, 4, 1, 3,\n",
       "       3, 4, 4, 4, 2, 3, 4, 3, 4, 2, 2, 4, 0, 4, 3, 0, 4, 0, 3, 3, 3, 4,\n",
       "       4, 2, 4, 4, 4, 3, 3, 4, 3, 4, 3, 4, 0, 4, 4, 4])"
      ]
     },
     "execution_count": 166,
     "metadata": {},
     "output_type": "execute_result"
    }
   ],
   "source": [
    "best_model=DecisionTreeClassifier(criterion=\"gini\",max_depth=4,max_leaf_nodes=6,min_samples_leaf=2,min_samples_split=2)\n",
    "best_model.fit(X_train,y_train)\n",
    "pred=best_model.predict(X_test)\n",
    "pred"
   ]
  },
  {
   "cell_type": "code",
   "execution_count": 167,
   "id": "354eb4df",
   "metadata": {},
   "outputs": [
    {
     "data": {
      "text/plain": [
       "array([3, 4, 3, 2, 4, 4, 4, 3, 0, 3, 0, 3, 4, 0, 1, 4, 1, 3, 2, 4, 1, 3,\n",
       "       3, 4, 4, 4, 2, 3, 4, 3, 4, 2, 2, 4, 0, 4, 3, 0, 4, 0, 3, 3, 3, 4,\n",
       "       4, 2, 4, 4, 4, 3, 3, 4, 3, 4, 3, 4, 0, 4, 4, 4])"
      ]
     },
     "execution_count": 167,
     "metadata": {},
     "output_type": "execute_result"
    }
   ],
   "source": [
    "np.array(y_test)"
   ]
  },
  {
   "cell_type": "code",
   "execution_count": 168,
   "id": "d0e1bfe6",
   "metadata": {},
   "outputs": [
    {
     "data": {
      "text/plain": [
       "1.0"
      ]
     },
     "execution_count": 168,
     "metadata": {},
     "output_type": "execute_result"
    }
   ],
   "source": [
    "metrics.accuracy_score(pred,y_test)"
   ]
  },
  {
   "cell_type": "code",
   "execution_count": 169,
   "id": "56eef536",
   "metadata": {},
   "outputs": [
    {
     "data": {
      "text/plain": [
       "array([[ 7,  0,  0,  0,  0],\n",
       "       [ 0,  3,  0,  0,  0],\n",
       "       [ 0,  0,  6,  0,  0],\n",
       "       [ 0,  0,  0, 18,  0],\n",
       "       [ 0,  0,  0,  0, 26]], dtype=int64)"
      ]
     },
     "execution_count": 169,
     "metadata": {},
     "output_type": "execute_result"
    }
   ],
   "source": [
    "metrics.confusion_matrix(pred,y_test)"
   ]
  },
  {
   "cell_type": "code",
   "execution_count": 173,
   "id": "b4c59731",
   "metadata": {},
   "outputs": [
    {
     "data": {
      "text/plain": [
       "<function matplotlib.pyplot.show(close=None, block=None)>"
      ]
     },
     "execution_count": 173,
     "metadata": {},
     "output_type": "execute_result"
    },
    {
     "data": {
      "image/png": "[encoded data removed]",
      "text/plain": [
       "<Figure size 432x288 with 1 Axes>"
      ]
     },
     "metadata": {
      "needs_background": "light"
     },
     "output_type": "display_data"
    }
   ],
   "source": [
    "plot_tree(best_model,filled=True,fontsize=5,feature_names=df.columns[0:-1])\n",
    "plt.show"
   ]
  },
  {
   "cell_type": "code",
   "execution_count": null,
   "id": "3f573db6",
   "metadata": {},
   "outputs": [],
   "source": []
  }
 ],
 "metadata": {
  "kernelspec": {
   "display_name": "Python 3 (ipykernel)",
   "language": "python",
   "name": "python3"
  },
  "language_info": {
   "codemirror_mode": {
    "name": "ipython",
    "version": 3
   },
   "file_extension": ".py",
   "mimetype": "text/x-python",
   "name": "python",
   "nbconvert_exporter": "python",
   "pygments_lexer": "ipython3",
   "version": "3.9.12"
  }
 },
 "nbformat": 4,
 "nbformat_minor": 5
}
